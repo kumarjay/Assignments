{
 "cells": [
  {
   "cell_type": "code",
   "execution_count": 1,
   "metadata": {},
   "outputs": [],
   "source": [
    "# Some basic setup:\n",
    "# Setup detectron2 logger\n",
    "import detectron2\n",
    "from detectron2.utils.logger import setup_logger\n",
    "setup_logger()\n",
    "\n",
    "# import some common libraries\n",
    "import numpy as np\n",
    "import os, json, cv2, random\n",
    "#from google.colab.patches import cv2_imshow\n",
    "\n",
    "# import some common detectron2 utilities\n",
    "from detectron2 import model_zoo\n",
    "from detectron2.engine import DefaultPredictor\n",
    "from detectron2.config import get_cfg\n",
    "from detectron2.utils.visualizer import Visualizer\n",
    "from detectron2.data import MetadataCatalog, DatasetCatalog"
   ]
  },
  {
   "cell_type": "code",
   "execution_count": 21,
   "metadata": {},
   "outputs": [],
   "source": [
    "\n",
    "from detectron2.structures import BoxMode\n",
    "import json\n",
    "import cv2\n",
    "import numpy as np\n",
    "\n",
    "def get_warehouse_box(csv_file, img_dir):\n",
    "    #json_file = os.path.join(img_dir, \"via_region_data.json\")\n",
    "    df= pd.read_csv(csv_file)\n",
    "    df['filename']= df['filename'].map(lambda x: img_dir + x)\n",
    "\n",
    "    \n",
    "    classes= ['pallet jacks', 'Rolling_Ladder', 'wire_mesh', 'bulk_box', 'totes',\n",
    "       'dump_hopper', 'bin', 'bulkBox', 'yard_ramp', 'dump_hoppers']\n",
    "\n",
    "    df['class_int']= df['class'].map(lambda x: classes.index(x))\n",
    "    print(df.head())\n",
    "    print(df['filename'][0])\n",
    "\n",
    "    # with open(json_file) as f:\n",
    "    #     imgs_anns = json.load(f)\n",
    "\n",
    "    dataset_dicts = []\n",
    "    for filename in df['filename'].unique().tolist():\n",
    "        record = {}\n",
    "        #print('initial....', filename)\n",
    "        filename = os.path.join(img_dir, filename)\n",
    "        #print('later.....', filename)\n",
    "        try:\n",
    "            height, width = cv2.imread(filename).shape[:2]\n",
    "\n",
    "            record[\"file_name\"] = filename\n",
    "            #record[\"image_id\"] = idx\n",
    "            record[\"height\"] = height\n",
    "            record[\"width\"] = width\n",
    "\n",
    "            #annos = v[\"regions\"]\n",
    "            objs = []\n",
    "            for index, row in df[df['filename']==filename].iterrows():\n",
    "                # assert not anno[\"region_attributes\"]\n",
    "                # anno = anno[\"shape_attributes\"]\n",
    "                # px = anno[\"all_points_x\"]\n",
    "                # py = anno[\"all_points_y\"]\n",
    "                # poly = [(x + 0.5, y + 0.5) for x, y in zip(px, py)]\n",
    "                # poly = [p for x in poly for p in x]\n",
    "\n",
    "                obj = {\n",
    "                    \"bbox\": [row['xmin'], row['ymin'], row['xmax'], row['ymax']],\n",
    "                    \"bbox_mode\": BoxMode.XYXY_ABS,\n",
    "                    \"category_id\": row['class_int'],\n",
    "                    \"iscrowd\":0\n",
    "                }\n",
    "                objs.append(obj)\n",
    "        except:\n",
    "            print(filename)\n",
    "        record[\"annotations\"] = objs\n",
    "        dataset_dicts.append(record)\n",
    "    return dataset_dicts\n",
    "\n"
   ]
  },
  {
   "cell_type": "code",
   "execution_count": 8,
   "metadata": {},
   "outputs": [],
   "source": [
    "from detectron2.data import DatasetCatalog, MetadataCatalog\n",
    "\n",
    "classes= ['pallet jacks', 'Rolling_Ladder', 'wire_mesh', 'bulk_box', 'totes',\n",
    "       'dump_hopper', 'bin', 'bulkBox', 'yard_ramp', 'dump_hoppers']\n",
    "\n",
    "for d in [\"train\", \"test\"]:\n",
    "    DatasetCatalog.register(\"experiment/\" + d, lambda d=d: get_warehouse_box(\"/home/jay/warehouse/resized/experiment/\" + d+ \"_labels.csv\", \"/home/jay/warehouse/resized/experiment/\"+ d +\"/\"))\n",
    "    MetadataCatalog.get(\"experiment/\" + d).set(thing_classes=classes)\n",
    "warehouse_metadata = MetadataCatalog.get(\"experiment/train\")"
   ]
  },
  {
   "cell_type": "code",
   "execution_count": 7,
   "metadata": {},
   "outputs": [
    {
     "data": {
      "text/plain": [
       "array(['pallet jacks', 'Rolling_Ladder', 'wire_mesh', 'bulk_box', 'totes',\n",
       "       'dump_hopper', 'bin', 'bulkBox', 'yard_ramp', 'dump_hoppers'],\n",
       "      dtype=object)"
      ]
     },
     "execution_count": 7,
     "metadata": {},
     "output_type": "execute_result"
    }
   ],
   "source": [
    "data= pd.read_csv('/home/jay/warehouse/resized/images/train_labels.csv')\n",
    "data['class'].unique()"
   ]
  },
  {
   "cell_type": "code",
   "execution_count": 22,
   "metadata": {},
   "outputs": [
    {
     "name": "stdout",
     "output_type": "stream",
     "text": [
      "                                            filename  width  height  \\\n",
      "0  /home/jay/warehouse/resized/images/train/Palle...    640     640   \n",
      "1  /home/jay/warehouse/resized/images/train/Palle...    640     640   \n",
      "2  /home/jay/warehouse/resized/images/train/Palle...    640     640   \n",
      "3  /home/jay/warehouse/resized/images/train/Palle...    640     640   \n",
      "4  /home/jay/warehouse/resized/images/train/Palle...    640     640   \n",
      "\n",
      "          class  xmin  ymin  xmax  ymax  class_int  \n",
      "0  pallet jacks    70   167   169   633          0  \n",
      "1  pallet jacks    88   266   411   545          0  \n",
      "2  pallet jacks    26    29   614   606          0  \n",
      "3  pallet jacks    15   143   620   584          0  \n",
      "4  pallet jacks    82    28   394   567          0  \n",
      "/home/jay/warehouse/resized/images/train/PalletJack_0145.jpg\n",
      "/home/jay/warehouse/resized/images/train/PalletJack_0201.jpg\n",
      "/home/jay/warehouse/resized/images/train/PalletJack_0200.jpg\n",
      "/home/jay/warehouse/resized/images/train/PalletJack_0202.jpg\n"
     ]
    }
   ],
   "source": [
    "from detectron2.utils.visualizer import Visualizer\n",
    "import pandas as pd\n",
    "\n",
    "dataset_dicts= get_warehouse_box('/home/jay/warehouse/resized/images/train_labels.csv', '/home/jay/warehouse/resized/images/train/')\n",
    "\n",
    "for d in random.sample(dataset_dicts, 3):\n",
    "    img = cv2.imread(d[\"file_name\"])\n",
    "    visualizer = Visualizer(img[:, :, ::-1], metadata=warehouse_metadata, scale=0.5)\n",
    "    out = visualizer.draw_dataset_dict(d)\n",
    "    cv2.imshow(\"images\", out.get_image()[:, :, ::-1])\n",
    "    cv2.waitKey(0)\n",
    "    \n",
    "cv2.destroyAllWindows()"
   ]
  },
  {
   "cell_type": "code",
   "execution_count": 24,
   "metadata": {},
   "outputs": [],
   "source": [
    "from detectron2.engine import DefaultTrainer\n",
    "from detectron2.config import get_cfg\n",
    "import itertools\n",
    "import pandas as pd\n",
    "\n",
    "\n",
    "cfg= get_cfg()\n",
    "cfg.merge_from_file(model_zoo.get_config_file(\"COCO-Detection/faster_rcnn_R_50_FPN_3x.yaml\"))\n",
    "\n",
    "cfg.DATASETS.TRAIN = (\"/home/jay/warehouse/resized/experiment/train\",)\n",
    "#cfg.DATASETS.TEST = ()\n",
    "\n",
    "cfg.DATALOADER.NUM_WORKERS = 2\n",
    "\n",
    "cfg.SOLVER.IMS_PER_BATCH = 2\n",
    "#cfg.SOLVER.BASE_LR = 0.00025  # pick a good LR\n",
    "#cfg.SOLVER.MAX_ITER = 5000    # 300 iterations seems good enough for this toy dataset; you will need to train longer for a practical dataset\n",
    "#cfg.MODEL.ROI_HEADS.BATCH_SIZE_PER_IMAGE = 128   # faster, and good enough for this toy dataset (default: 512)\n",
    "cfg.MODEL.ROI_HEADS.NUM_CLASSES = 8  # only has one class (ballon)\n",
    "cfg.MODEL.DEVICE='cpu'\n",
    "\n",
    "cfg.MODEL.ROI_HEADS.SCORE_THRESH_TEST = 0.7   # set a custom testing threshold\n",
    "cfg.DATASETS.TEST= ('/home/jay/warehouse/resized/experiment/test',)\n",
    "\n",
    "cfg.MODEL.WEIGHTS = os.path.join(\"path \", \"where model is saved\")\n",
    "predictor = DefaultPredictor(cfg)"
   ]
  },
  {
   "cell_type": "code",
   "execution_count": 25,
   "metadata": {},
   "outputs": [
    {
     "name": "stderr",
     "output_type": "stream",
     "text": [
      "/home/jay/anaconda3/lib/python3.7/site-packages/detectron2/layers/wrappers.py:226: UserWarning: This overload of nonzero is deprecated:\n",
      "\tnonzero()\n",
      "Consider using one of the following signatures instead:\n",
      "\tnonzero(*, bool as_tuple) (Triggered internally at  /pytorch/torch/csrc/utils/python_arg_parser.cpp:766.)\n",
      "  return x.nonzero().unbind(1)\n"
     ]
    }
   ],
   "source": [
    "img= cv2.imread('/home/jay/warehouse/resized/images/test/bulkBox_00131.jpg')\n",
    "output= predictor(img)\n",
    "visualizer= Visualizer(img[:, :, ::-1], metadata= warehouse_metadata, scale= 0.5)\n",
    "out= visualizer.draw_instance_predictions(output['instances'].to('cpu'))\n",
    "#xyz= visualizer.draw_dataset_dict()\n",
    "cv2.imshow('frame', out.get_image()[:, :, ::-1])\n",
    "cv2.waitKey(0)\n",
    "\n",
    "cv2.destroyAllWindows()"
   ]
  },
  {
   "cell_type": "code",
   "execution_count": null,
   "metadata": {},
   "outputs": [],
   "source": [
    "\n",
    "frames1= []\n",
    "\n",
    "\n",
    "\n",
    "cap= cv2.VideoCapture('path of the video')\n",
    "\n",
    "\n",
    "while True:\n",
    "    ret, frame= cap.read()\n",
    "    \n",
    "    output= predictor(frame)\n",
    "    objs= output['instances'].get('pred_classes')\n",
    "\n",
    "\n",
    "    visualizer = Visualizer(frame[:, :, ::-1], metadata=warehouse_metadata, scale=0.5)\n",
    "\n",
    "    out = visualizer.draw_instance_predictions(output['instances'].to('cpu'))\n",
    "\n",
    "    cv2.imshow(\"frame_\", out.get_image()[:, :, ::-1])\n",
    "    color= cv2.cvtColor(out.get_image()[:,:,::-1], cv2.COLOR_RGB2BGR)\n",
    "    \n",
    "    \n",
    "    frames1.append(color)\n",
    "    \n",
    "    #clip= ImageSequenceClip(out.get_image()[:,:,::-1], fps= 20)\n",
    "    #clip.write_videofile(output_vid)\n",
    "\n",
    "\n",
    "\n",
    "    if cv2.waitKey(1) & 0xff==ord('q'):\n",
    "        break\n",
    "\n",
    "        \n",
    "\n",
    "        \n",
    "cap.release()\n",
    "cv2.destroyAllWindows()"
   ]
  },
  {
   "cell_type": "code",
   "execution_count": 1,
   "metadata": {},
   "outputs": [],
   "source": [
    "import tqdm\n",
    "import moviepy\n",
    "from moviepy.editor import *\n",
    "from PIL import Image"
   ]
  },
  {
   "cell_type": "code",
   "execution_count": 9,
   "metadata": {},
   "outputs": [
    {
     "name": "stderr",
     "output_type": "stream",
     "text": [
      "                                                           "
     ]
    },
    {
     "name": "stdout",
     "output_type": "stream",
     "text": [
      "Moviepy - Building video /home/jay/Downloads/sat_tained/satellite_images.mp4.\n",
      "Moviepy - Writing video /home/jay/Downloads/sat_tained/satellite_images.mp4\n",
      "\n"
     ]
    },
    {
     "name": "stderr",
     "output_type": "stream",
     "text": [
      "\r"
     ]
    },
    {
     "name": "stdout",
     "output_type": "stream",
     "text": [
      "Moviepy - Done !\n",
      "Moviepy - video ready /home/jay/Downloads/sat_tained/satellite_images.mp4\n"
     ]
    }
   ],
   "source": [
    "output_vid= os.path.join('/home/jay/Downloads/sat_tained', 'satellite_images.mp4')\n",
    "\n",
    "        \n",
    "clip= ImageSequenceClip(frames, fps= 0.5)\n",
    "clip.write_videofile(output_vid)"
   ]
  },
  {
   "cell_type": "code",
   "execution_count": 3,
   "metadata": {},
   "outputs": [],
   "source": [
    "files= os.listdir('/home/jay/Downloads/sat_tained')\n",
    "frames= []\n",
    "\n",
    "for f in files:\n",
    "    frames.append(os.path.join('/home/jay/Downloads/sat_tained', f))"
   ]
  },
  {
   "cell_type": "code",
   "execution_count": 6,
   "metadata": {},
   "outputs": [
    {
     "name": "stdout",
     "output_type": "stream",
     "text": [
      "/home/jay/ipynb files\r\n"
     ]
    }
   ],
   "source": [
    "!pwd"
   ]
  },
  {
   "cell_type": "code",
   "execution_count": null,
   "metadata": {},
   "outputs": [],
   "source": []
  }
 ],
 "metadata": {
  "kernelspec": {
   "display_name": "Python 3",
   "language": "python",
   "name": "python3"
  },
  "language_info": {
   "codemirror_mode": {
    "name": "ipython",
    "version": 3
   },
   "file_extension": ".py",
   "mimetype": "text/x-python",
   "name": "python",
   "nbconvert_exporter": "python",
   "pygments_lexer": "ipython3",
   "version": "3.7.6"
  }
 },
 "nbformat": 4,
 "nbformat_minor": 4
}
