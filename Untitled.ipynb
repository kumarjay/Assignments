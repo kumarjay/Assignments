{
 "cells": [
  {
   "cell_type": "code",
   "execution_count": 1,
   "metadata": {},
   "outputs": [],
   "source": [
    "import cv2\n",
    "import numpy as np\n",
    "import matplotlib.pyplot as plt"
   ]
  },
  {
   "cell_type": "code",
   "execution_count": null,
   "metadata": {},
   "outputs": [],
   "source": [
    "img= cv2.imread('/home/jay/warehouse/bins_industry/jpg_24.jpg')\n",
    "\n",
    "hsv= cv2.cvtColor(img, cv2.COLOR_BGR2HSV)\n",
    "lower_white= np.array([0,0,168], dtype= np.uint8)\n",
    "upper_white= np.array([172,111,255], dtype= np.uint8)\n",
    "\n",
    "mask= cv2.inRange(hsv, lower_white, upper_white)\n",
    "res= cv2.bitwise_and(img, img, mask= mask)\n",
    "img[mask>10]= (0,250,0)\n",
    "\n",
    "cv2.imshow('frame', img)\n",
    "cv2.imwrite('/home/jay/warehouse/bins_industry/jpg3_24.jpg', img)\n",
    "cv2.waitKey(0)\n",
    "cv2.destroyAllWindows()"
   ]
  }
 ],
 "metadata": {
  "kernelspec": {
   "display_name": "Python 3",
   "language": "python",
   "name": "python3"
  },
  "language_info": {
   "codemirror_mode": {
    "name": "ipython",
    "version": 3
   },
   "file_extension": ".py",
   "mimetype": "text/x-python",
   "name": "python",
   "nbconvert_exporter": "python",
   "pygments_lexer": "ipython3",
   "version": "3.7.6"
  }
 },
 "nbformat": 4,
 "nbformat_minor": 4
}
